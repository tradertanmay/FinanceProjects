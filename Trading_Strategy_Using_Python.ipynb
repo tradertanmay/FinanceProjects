{
  "nbformat": 4,
  "nbformat_minor": 0,
  "metadata": {
    "colab": {
      "name": "Trading Strategy Using Python.ipynb",
      "version": "0.3.2",
      "provenance": [],
      "include_colab_link": true
    },
    "kernelspec": {
      "name": "python3",
      "display_name": "Python 3"
    }
  },
  "cells": [
    {
      "cell_type": "markdown",
      "metadata": {
        "id": "view-in-github",
        "colab_type": "text"
      },
      "source": [
        "<a href=\"https://colab.research.google.com/github/tradertanmay/FinanceProjects/blob/master/Trading_Strategy_Using_Python.ipynb\" target=\"_parent\"><img src=\"https://colab.research.google.com/assets/colab-badge.svg\" alt=\"Open In Colab\"/></a>"
      ]
    },
    {
      "cell_type": "markdown",
      "metadata": {
        "id": "mUV1Wi1QcPw9",
        "colab_type": "text"
      },
      "source": [
        "**import** **libraries** "
      ]
    },
    {
      "cell_type": "code",
      "metadata": {
        "id": "I5a5SVS_cVl_",
        "colab_type": "code",
        "colab": {}
      },
      "source": [
        "import pandas_datareader as pdr\n",
        "import pandas as pd\n",
        "import numpy as np"
      ],
      "execution_count": 0,
      "outputs": []
    },
    {
      "cell_type": "code",
      "metadata": {
        "id": "Z8OcMXChcYXG",
        "colab_type": "code",
        "colab": {}
      },
      "source": [
        "#Get Data\n",
        "amazon =pdr.get_data_yahoo(\"amzn\")"
      ],
      "execution_count": 0,
      "outputs": []
    },
    {
      "cell_type": "markdown",
      "metadata": {
        "id": "QcN9CI7ZcvT2",
        "colab_type": "text"
      },
      "source": [
        "*Price* change for the last 5 days"
      ]
    },
    {
      "cell_type": "code",
      "metadata": {
        "id": "lfEaKsd4cdTe",
        "colab_type": "code",
        "colab": {}
      },
      "source": [
        "amazon['5_Days_Close_Change']=amazon[\"Close\"].shift(1) -amazon[\"Close\"].shift(6)"
      ],
      "execution_count": 0,
      "outputs": []
    },
    {
      "cell_type": "markdown",
      "metadata": {
        "id": "k7bqRY4gc4ha",
        "colab_type": "text"
      },
      "source": [
        "*100* days standard deviation of price change"
      ]
    },
    {
      "cell_type": "code",
      "metadata": {
        "id": "V6iZu0YWczVY",
        "colab_type": "code",
        "colab": {}
      },
      "source": [
        "amazon['std_100day'] = amazon['5_Days_Close_Change'].rolling(window =100).std()\n"
      ],
      "execution_count": 0,
      "outputs": []
    },
    {
      "cell_type": "markdown",
      "metadata": {
        "id": "s0kAfC_Cc-Bt",
        "colab_type": "text"
      },
      "source": [
        "Average volume traded"
      ]
    },
    {
      "cell_type": "code",
      "metadata": {
        "id": "1OiqPz_9c9Qu",
        "colab_type": "code",
        "colab": {}
      },
      "source": [
        "amazon['5d_avg_vol'] = amazon['Volume'].shift(1).rolling(window=5).mean()"
      ],
      "execution_count": 0,
      "outputs": []
    },
    {
      "cell_type": "markdown",
      "metadata": {
        "id": "V_18o-dwdIxG",
        "colab_type": "text"
      },
      "source": [
        "**Average** volume traded between last 5 to 10 days"
      ]
    },
    {
      "cell_type": "code",
      "metadata": {
        "id": "RPyFubH2dHxx",
        "colab_type": "code",
        "colab": {}
      },
      "source": [
        "amazon['past 5d_avg_vol'] = amazon['5d_avg_vol'].shift(5)"
      ],
      "execution_count": 0,
      "outputs": []
    },
    {
      "cell_type": "markdown",
      "metadata": {
        "id": "IjyT19mZdRl-",
        "colab_type": "text"
      },
      "source": [
        "**Signal** column"
      ]
    },
    {
      "cell_type": "code",
      "metadata": {
        "id": "1diHkJaxdP_y",
        "colab_type": "code",
        "colab": {}
      },
      "source": [
        "amazon['signal']=0"
      ],
      "execution_count": 0,
      "outputs": []
    },
    {
      "cell_type": "markdown",
      "metadata": {
        "id": "fTyKh-hvdQiQ",
        "colab_type": "text"
      },
      "source": [
        "Buy Signal\n",
        "\n",
        "1)when the abosulte value of  5 day price change is greater than the 100 day std deviation\n",
        "\n",
        "\n",
        "\n",
        "\n",
        "\n",
        "\n",
        "2) When  5 day avg volume is less thanthe avg volume between 5-10 days\n",
        "\n",
        "\n",
        "\n",
        "\n",
        "\n",
        "\n",
        "\n",
        "\n",
        "\n",
        "\n",
        "3) When 5day price change is negative"
      ]
    },
    {
      "cell_type": "code",
      "metadata": {
        "id": "yRwp4qWceXkF",
        "colab_type": "code",
        "colab": {}
      },
      "source": [
        "amazon.loc[((amazon['5_Days_Close_Change'].abs() > amazon['std_100day'])\n",
        "            & (amazon['5d_avg_vol']< amazon['past 5d_avg_vol']) \n",
        "               & (amazon['5_Days_Close_Change']<0)),'signal' ]=1"
      ],
      "execution_count": 0,
      "outputs": []
    },
    {
      "cell_type": "markdown",
      "metadata": {
        "id": "F_ZqqvaPeuLl",
        "colab_type": "text"
      },
      "source": [
        "Sell Signal\n"
      ]
    },
    {
      "cell_type": "markdown",
      "metadata": {
        "colab_type": "text",
        "id": "s1GCdHfge5pD"
      },
      "source": [
        "Buy Signal\n",
        "\n",
        "1)when the abosulte value of  5 day price change is greater than the 100 day std deviation\n",
        "\n",
        "\n",
        "\n",
        "\n",
        "\n",
        "\n",
        "2) When  5 day avg volume is less thanthe avg volume between 5-10 days\n",
        "\n",
        "\n",
        "\n",
        "\n",
        "\n",
        "\n",
        "\n",
        "\n",
        "\n",
        "\n",
        "3) When 5day price change is positive"
      ]
    },
    {
      "cell_type": "code",
      "metadata": {
        "id": "aO1vzwDOeoh_",
        "colab_type": "code",
        "colab": {}
      },
      "source": [
        "amazon.loc[((amazon['5_Days_Close_Change'].abs() > amazon['std_100day']) \n",
        "     & (amazon['5d_avg_vol']< amazon['past 5d_avg_vol']) \n",
        "        & (amazon['5_Days_Close_Change']>0)),'signal' ]=-1"
      ],
      "execution_count": 0,
      "outputs": []
    },
    {
      "cell_type": "markdown",
      "metadata": {
        "id": "pomLuIYnfPVM",
        "colab_type": "text"
      },
      "source": [
        "Now  we are only interested  in getting alternating buy and sell signal. So that \n",
        "we are only having at max one position in the market( either long, short or flat)\n",
        "\n"
      ]
    },
    {
      "cell_type": "code",
      "metadata": {
        "id": "xSm24CZ4fCjy",
        "colab_type": "code",
        "colab": {}
      },
      "source": [
        "amazon1=amazon.drop(amazon[(amazon[\"signal\"] ==0)].index)\n",
        "amazon1 =amazon1.drop(amazon1[(amazon1[\"signal\"]==amazon1[\"signal\"].shift(1))].index)"
      ],
      "execution_count": 0,
      "outputs": []
    },
    {
      "cell_type": "markdown",
      "metadata": {
        "id": "yplLXC4sf_Kq",
        "colab_type": "text"
      },
      "source": [
        "Log Returns"
      ]
    },
    {
      "cell_type": "code",
      "metadata": {
        "id": "yFH8IYsbf2Ug",
        "colab_type": "code",
        "colab": {}
      },
      "source": [
        "amazon1[\"Return\"]  =np.log(amazon1[\"Close\"].shift(-1)/amazon1[\"Close\"])"
      ],
      "execution_count": 0,
      "outputs": []
    },
    {
      "cell_type": "markdown",
      "metadata": {
        "id": "09H2Jb33gRRL",
        "colab_type": "text"
      },
      "source": [
        "Strategy Returns"
      ]
    },
    {
      "cell_type": "code",
      "metadata": {
        "id": "jbDG5yOugDMS",
        "colab_type": "code",
        "colab": {}
      },
      "source": [
        "amazon1['Strategy_return']=amazon1['signal']*amazon1['Return']\n"
      ],
      "execution_count": 0,
      "outputs": []
    },
    {
      "cell_type": "markdown",
      "metadata": {
        "id": "5PpbSGaVghTQ",
        "colab_type": "text"
      },
      "source": [
        "Cumulative Returns"
      ]
    },
    {
      "cell_type": "code",
      "metadata": {
        "id": "EIzD8iLDgcAf",
        "colab_type": "code",
        "colab": {}
      },
      "source": [
        "amazon1[\"cumulative_return\"]=amazon1['Strategy_return'].cumsum()"
      ],
      "execution_count": 0,
      "outputs": []
    },
    {
      "cell_type": "markdown",
      "metadata": {
        "id": "-8j8p18Zgq8y",
        "colab_type": "text"
      },
      "source": [
        "Plot the cumulative returns"
      ]
    },
    {
      "cell_type": "code",
      "metadata": {
        "id": "cYpc2I53gmoS",
        "colab_type": "code",
        "colab": {
          "base_uri": "https://localhost:8080/",
          "height": 290
        },
        "outputId": "b445225e-c9e1-486a-fca4-63f8d6bc0098"
      },
      "source": [
        "amazon1[\"cumulative_return\"].plot()"
      ],
      "execution_count": 17,
      "outputs": [
        {
          "output_type": "execute_result",
          "data": {
            "text/plain": [
              "<matplotlib.axes._subplots.AxesSubplot at 0x7f0e1dc49940>"
            ]
          },
          "metadata": {
            "tags": []
          },
          "execution_count": 17
        },
        {
          "output_type": "display_data",
          "data": {
            "image/png": "[encoded data removed]",
            "text/plain": [
              "<Figure size 432x288 with 1 Axes>"
            ]
          },
          "metadata": {
            "tags": []
          }
        }
      ]
    },
    {
      "cell_type": "code",
      "metadata": {
        "id": "HIEQUBbtguoB",
        "colab_type": "code",
        "colab": {}
      },
      "source": [
        ""
      ],
      "execution_count": 0,
      "outputs": []
    }
  ]
}
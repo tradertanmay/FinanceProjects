{
  "nbformat": 4,
  "nbformat_minor": 0,
  "metadata": {
    "colab": {
      "name": "European_Call_Pricing Using Monte Carlo.ipynb",
      "version": "0.3.2",
      "provenance": [],
      "include_colab_link": true
    },
    "kernelspec": {
      "name": "python3",
      "display_name": "Python 3"
    }
  },
  "cells": [
    {
      "cell_type": "markdown",
      "metadata": {
        "id": "view-in-github",
        "colab_type": "text"
      },
      "source": [
        "<a href=\"https://colab.research.google.com/github/tradertanmay/FinanceProjects/blob/master/European_Call_Pricing_Using_Monte_Carlo.ipynb\" target=\"_parent\"><img src=\"https://colab.research.google.com/assets/colab-badge.svg\" alt=\"Open In Colab\"/></a>"
      ]
    },
    {
      "cell_type": "code",
      "metadata": {
        "id": "59R5wLlJFZpy",
        "colab_type": "code",
        "colab": {}
      },
      "source": [
        "import numpy as np\n",
        "from scipy import stats"
      ],
      "execution_count": 0,
      "outputs": []
    },
    {
      "cell_type": "code",
      "metadata": {
        "id": "9w3pYB7HBUyY",
        "colab_type": "code",
        "colab": {}
      },
      "source": [
        "sigma =1\n",
        "alpha=0.05\n",
        "mu = alpha -sigma**2/2\n",
        "dt = 0.01\n",
        "t =4\n",
        "so =100\n",
        "Nt = t/dt\n",
        "k=100"
      ],
      "execution_count": 0,
      "outputs": []
    },
    {
      "cell_type": "code",
      "metadata": {
        "id": "1L5_LqOBBf3m",
        "colab_type": "code",
        "colab": {}
      },
      "source": [
        "#Black Scholes"
      ],
      "execution_count": 0,
      "outputs": []
    },
    {
      "cell_type": "code",
      "metadata": {
        "id": "pCE0IIOnB1Hn",
        "colab_type": "code",
        "colab": {
          "base_uri": "https://localhost:8080/",
          "height": 34
        },
        "outputId": "ad3f9b62-f167-4105-f24b-d698cfdf5ad7"
      },
      "source": [
        "a= (np.log(k/so)+ sigma**2*t/2 -alpha*t)/(sigma*np.sqrt(t))\n",
        "call_price = so*stats.norm.cdf(sigma*np.sqrt(t)-a) - k*np.exp(-alpha*t)*stats.norm.cdf(-a)\n",
        "call_price"
      ],
      "execution_count": 71,
      "outputs": [
        {
          "output_type": "execute_result",
          "data": {
            "text/plain": [
              "71.36382540168371"
            ]
          },
          "metadata": {
            "tags": []
          },
          "execution_count": 71
        }
      ]
    },
    {
      "cell_type": "code",
      "metadata": {
        "id": "EK2o801gC-yn",
        "colab_type": "code",
        "colab": {}
      },
      "source": [
        "# monte carlo"
      ],
      "execution_count": 0,
      "outputs": []
    },
    {
      "cell_type": "code",
      "metadata": {
        "id": "zvR6b0WyGtWe",
        "colab_type": "code",
        "colab": {
          "base_uri": "https://localhost:8080/",
          "height": 34
        },
        "outputId": "593477bc-deec-4ee1-cd75-3437cf20d526"
      },
      "source": [
        "N =1000000\n",
        "z = np.random.normal(0,1,N)\n",
        "s =so*np.exp(mu*t+ sigma*np.sqrt(t)*z)\n",
        "mc_call =np.exp(-alpha*t)*np.asarray([(i-k) for i  in s if (i-k)>0 ])\n",
        "sum(mc_call)/N"
      ],
      "execution_count": 73,
      "outputs": [
        {
          "output_type": "execute_result",
          "data": {
            "text/plain": [
              "70.86415691351873"
            ]
          },
          "metadata": {
            "tags": []
          },
          "execution_count": 73
        }
      ]
    }
  ]
}